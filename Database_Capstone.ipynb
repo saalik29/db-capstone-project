{
  "nbformat": 4,
  "nbformat_minor": 0,
  "metadata": {
    "colab": {
      "provenance": []
    },
    "kernelspec": {
      "name": "python3",
      "display_name": "Python 3"
    },
    "language_info": {
      "name": "python"
    }
  },
  "cells": [
    {
      "cell_type": "code",
      "execution_count": null,
      "metadata": {
        "id": "2X7DHpou6XI2"
      },
      "outputs": [],
      "source": [
        "!pip install mysql-connector-python"
      ]
    },
    {
      "cell_type": "code",
      "source": [
        "import mysql.connector as connector"
      ],
      "metadata": {
        "id": "Dqgd1gZr7xn_"
      },
      "execution_count": null,
      "outputs": []
    },
    {
      "cell_type": "code",
      "source": [
        "connection = connector.connect(user = \"root\", password = \"1234567\" db ='little_lemon_db')"
      ],
      "metadata": {
        "id": "vxDZjcj67zMY"
      },
      "execution_count": null,
      "outputs": []
    },
    {
      "cell_type": "code",
      "source": [
        "cursor = execute(\"USE little_lemon_db\")"
      ],
      "metadata": {
        "id": "wZrIg_wV77bx"
      },
      "execution_count": null,
      "outputs": []
    },
    {
      "cell_type": "code",
      "source": [
        "show_tables_query = \"SHOW tables\" "
      ],
      "metadata": {
        "id": "eKMOFPID8Fc-"
      },
      "execution_count": null,
      "outputs": []
    },
    {
      "cell_type": "code",
      "source": [
        "tables = cursor.fetchall()\n",
        "for table in tables:\n",
        "    print(table[0])"
      ],
      "metadata": {
        "id": "yCRYlFR18HI2"
      },
      "execution_count": null,
      "outputs": []
    },
    {
      "cell_type": "code",
      "source": [
        "join_query = \"\"\"\n",
        "SELECT \n",
        "Bookings.BookingID,\n",
        "Bookings.TableNo,\n",
        "Bookings.GuestFirstName,\n",
        "Orders.BillAmount AS TotalCost\n",
        "FROM Bookings\n",
        "LEFT JOIN Orders ON Bookings.BookingID = Orders.BookingID\n",
        "WHERE Orders.BillAmount > 60\n",
        "\"\"\"\n"
      ],
      "metadata": {
        "id": "NLh3MfWA9WJW"
      },
      "execution_count": null,
      "outputs": []
    },
    {
      "cell_type": "code",
      "source": [
        "cursor.execute(join_query)"
      ],
      "metadata": {
        "id": "cuQS3OUr-P8H"
      },
      "execution_count": null,
      "outputs": []
    },
    {
      "cell_type": "code",
      "source": [
        "results = cursor.fetchall()"
      ],
      "metadata": {
        "id": "0KsYDwkE-V3O"
      },
      "execution_count": null,
      "outputs": []
    },
    {
      "cell_type": "code",
      "source": [
        "print(cursor.column_names)\n",
        "print(results)"
      ],
      "metadata": {
        "id": "6YvM5nAx-aRu"
      },
      "execution_count": null,
      "outputs": []
    }
  ]
}